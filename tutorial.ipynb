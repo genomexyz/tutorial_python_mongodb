{
 "cells": [
  {
   "cell_type": "markdown",
   "metadata": {},
   "source": [
    "# Perintah Dasar MongoDB Menggunakan Python\n",
    "#### By: M Ryan\n",
    "\n",
    "\n",
    "\n",
    "Requriment Python Untuk Akses MongoDB\n",
    "- mongodb\n",
    "- Pymongo\n",
    "\n",
    "Cara install pymongo (menggunakan pip):\n",
    "* sudo -H pip install pymongo\n"
   ]
  },
  {
   "cell_type": "markdown",
   "metadata": {},
   "source": [
    "Langkah awal, import terlebih dahulu modulnya"
   ]
  },
  {
   "cell_type": "code",
   "execution_count": 33,
   "metadata": {},
   "outputs": [],
   "source": [
    "import pymongo"
   ]
  },
  {
   "cell_type": "markdown",
   "metadata": {},
   "source": [
    "Akses ke server mongoDB"
   ]
  },
  {
   "cell_type": "code",
   "execution_count": 34,
   "metadata": {},
   "outputs": [],
   "source": [
    "client = pymongo.MongoClient()"
   ]
  },
  {
   "cell_type": "markdown",
   "metadata": {},
   "source": [
    "Bisa juga dengan"
   ]
  },
  {
   "cell_type": "code",
   "execution_count": 35,
   "metadata": {},
   "outputs": [],
   "source": [
    "client = pymongo.MongoClient('localhost', 27017)"
   ]
  },
  {
   "cell_type": "markdown",
   "metadata": {},
   "source": [
    "Akses collection yang kita inginkan"
   ]
  },
  {
   "cell_type": "code",
   "execution_count": 4,
   "metadata": {},
   "outputs": [],
   "source": [
    "collection = client['meteo_achieve']['metar_param']"
   ]
  },
  {
   "cell_type": "markdown",
   "metadata": {},
   "source": [
    "Hitung ada berapa total document pada collection"
   ]
  },
  {
   "cell_type": "code",
   "execution_count": 36,
   "metadata": {},
   "outputs": [
    {
     "data": {
      "text/plain": [
       "413994"
      ]
     },
     "execution_count": 36,
     "metadata": {},
     "output_type": "execute_result"
    }
   ],
   "source": [
    "collection.count_documents({})"
   ]
  },
  {
   "cell_type": "markdown",
   "metadata": {},
   "source": [
    "Cek sampel document yang ada di collection"
   ]
  },
  {
   "cell_type": "code",
   "execution_count": 37,
   "metadata": {},
   "outputs": [
    {
     "name": "stdout",
     "output_type": "stream",
     "text": [
      "{'cuaca': 'NO DATA', 'awancb': 'NO CB', 'suhu': 29, 'arah_angin': 9999, 'bulan': 1, 'kecepatan_angin': 2, 'visibility': 9999, 'jam': 1, 'arah_angin_var2': 'NO DATA', 'tekanan': 1007, '_id': ObjectId('5dafd4f00cdabeb93e6d5e79'), 'menit': 0, 'awan': 'FEW019', 'gusty': 'NO DATA', 'stasiun': 'WAAA', 'RH': 74, 'suhu_titik_embun': 24, 'hari': 1, 'tahun': 2011, 'arah_angin_var1': 'NO DATA'}\n",
      "{'cuaca': 'Hujan ringan', 'awancb': 'CB', 'suhu': 27, 'arah_angin': 320, 'bulan': 1, 'kecepatan_angin': 14, 'visibility': 8000, 'jam': 7, 'arah_angin_var2': 'NO DATA', 'tekanan': 1006, '_id': ObjectId('5dafd4d82afd0a3dc3a1b1ee'), 'menit': 30, 'awan': 'FEW018CB', 'gusty': 'NO DATA', 'stasiun': 'WAAA', 'RH': 83, 'suhu_titik_embun': 24, 'hari': 1, 'tahun': 2011, 'arah_angin_var1': 'NO DATA'}\n",
      "{'cuaca': 'NO DATA', 'awancb': 'NO CB', 'suhu': 27, 'arah_angin': 80, 'bulan': 1, 'kecepatan_angin': 3, 'visibility': 9999, 'jam': 0, 'arah_angin_var2': 110, 'tekanan': 1007, '_id': ObjectId('5dafd4ef10da4f41fd649dcd'), 'menit': 0, 'awan': 'FEW019', 'gusty': 'NO DATA', 'stasiun': 'WAAA', 'RH': 78, 'suhu_titik_embun': 23, 'hari': 1, 'tahun': 2011, 'arah_angin_var1': 40}\n",
      "{'cuaca': 'NO DATA', 'awancb': 'NO CB', 'suhu': 31, 'arah_angin': 9999, 'bulan': 1, 'kecepatan_angin': 1, 'visibility': 9999, 'jam': 2, 'arah_angin_var2': 'NO DATA', 'tekanan': 1007, '_id': ObjectId('5dafd4f278899cca45682eb3'), 'menit': 0, 'awan': 'FEW019', 'gusty': 'NO DATA', 'stasiun': 'WAAA', 'RH': 62, 'suhu_titik_embun': 23, 'hari': 1, 'tahun': 2011, 'arah_angin_var1': 'NO DATA'}\n",
      "{'cuaca': 'NO DATA', 'awancb': 'NO CB', 'suhu': 30, 'arah_angin': 9999, 'bulan': 1, 'kecepatan_angin': 2, 'visibility': 9999, 'jam': 1, 'arah_angin_var2': 'NO DATA', 'tekanan': 1007, '_id': ObjectId('5dafd4f106eca497574068ce'), 'menit': 30, 'awan': 'FEW019', 'gusty': 'NO DATA', 'stasiun': 'WAAA', 'RH': 70, 'suhu_titik_embun': 24, 'hari': 1, 'tahun': 2011, 'arah_angin_var1': 'NO DATA'}\n",
      "{'cuaca': 'NO DATA', 'awancb': 'NO CB', 'suhu': 32, 'arah_angin': 9999, 'bulan': 1, 'kecepatan_angin': 1, 'visibility': 9999, 'jam': 2, 'arah_angin_var2': 'NO DATA', 'tekanan': 1007, '_id': ObjectId('5dafd4f2c92ae93e3a120ccf'), 'menit': 30, 'awan': 'FEW019', 'gusty': 'NO DATA', 'stasiun': 'WAAA', 'RH': 59, 'suhu_titik_embun': 23, 'hari': 1, 'tahun': 2011, 'arah_angin_var1': 'NO DATA'}\n",
      "{'cuaca': 'NO DATA', 'awancb': 'NO CB', 'suhu': 32, 'arah_angin': 310, 'bulan': 1, 'kecepatan_angin': 4, 'visibility': 9999, 'jam': 3, 'arah_angin_var2': 20, 'tekanan': 1007, '_id': ObjectId('5dafd4f45769c536e0b8919b'), 'menit': 30, 'awan': 'FEW019', 'gusty': 'NO DATA', 'stasiun': 'WAAA', 'RH': 59, 'suhu_titik_embun': 23, 'hari': 1, 'tahun': 2011, 'arah_angin_var1': 240}\n",
      "{'cuaca': 'NO DATA', 'awancb': 'NO CB', 'suhu': 32, 'arah_angin': 290, 'bulan': 1, 'kecepatan_angin': 3, 'visibility': 9999, 'jam': 3, 'arah_angin_var2': 340, 'tekanan': 1007, '_id': ObjectId('5dafd4f32b4679a8504022ab'), 'menit': 0, 'awan': 'FEW019', 'gusty': 'NO DATA', 'stasiun': 'WAAA', 'RH': 55, 'suhu_titik_embun': 22, 'hari': 1, 'tahun': 2011, 'arah_angin_var1': 260}\n",
      "{'cuaca': 'NO DATA', 'awancb': 'NO CB', 'suhu': 33, 'arah_angin': 280, 'bulan': 1, 'kecepatan_angin': 3, 'visibility': 9999, 'jam': 5, 'arah_angin_var2': 340, 'tekanan': 1006, '_id': ObjectId('5dafd4f6025d455f6dae5575'), 'menit': 0, 'awan': 'FEW019', 'gusty': 'NO DATA', 'stasiun': 'WAAA', 'RH': 52, 'suhu_titik_embun': 22, 'hari': 1, 'tahun': 2011, 'arah_angin_var1': 240}\n",
      "{'cuaca': 'NO DATA', 'awancb': 'NO CB', 'suhu': 33, 'arah_angin': 300, 'bulan': 1, 'kecepatan_angin': 4, 'visibility': 9999, 'jam': 4, 'arah_angin_var2': 10, 'tekanan': 1006, '_id': ObjectId('5dafd4f516a98a2ac20c973e'), 'menit': 30, 'awan': 'FEW019', 'gusty': 'NO DATA', 'stasiun': 'WAAA', 'RH': 52, 'suhu_titik_embun': 22, 'hari': 1, 'tahun': 2011, 'arah_angin_var1': 260}\n",
      "{'cuaca': 'NO DATA', 'awancb': 'NO CB', 'suhu': 32, 'arah_angin': 340, 'bulan': 1, 'kecepatan_angin': 5, 'visibility': 9999, 'jam': 4, 'arah_angin_var2': 20, 'tekanan': 1006, '_id': ObjectId('5dafd4f5a6a60b6047f8eb32'), 'menit': 0, 'awan': 'FEW019', 'gusty': 'NO DATA', 'stasiun': 'WAAA', 'RH': 59, 'suhu_titik_embun': 23, 'hari': 1, 'tahun': 2011, 'arah_angin_var1': 300}\n"
     ]
    }
   ],
   "source": [
    "documents = collection.find({})\n",
    "counter = 0\n",
    "document_sampel = []\n",
    "for document in documents:\n",
    "    if counter > 10:\n",
    "        break\n",
    "    print(document)\n",
    "    document_sampel.append(document)\n",
    "    counter += 1"
   ]
  },
  {
   "cell_type": "code",
   "execution_count": 38,
   "metadata": {},
   "outputs": [
    {
     "name": "stdout",
     "output_type": "stream",
     "text": [
      "{'cuaca': 'NO DATA', 'awancb': 'NO CB', 'suhu': 29, 'arah_angin': 9999, 'bulan': 1, 'kecepatan_angin': 2, 'visibility': 9999, 'jam': 1, 'arah_angin_var2': 'NO DATA', 'tekanan': 1007, '_id': ObjectId('5dafd4f00cdabeb93e6d5e79'), 'menit': 0, 'awan': 'FEW019', 'gusty': 'NO DATA', 'stasiun': 'WAAA', 'RH': 74, 'suhu_titik_embun': 24, 'hari': 1, 'tahun': 2011, 'arah_angin_var1': 'NO DATA'}\n"
     ]
    }
   ],
   "source": [
    "print(document_sampel[0])"
   ]
  },
  {
   "cell_type": "code",
   "execution_count": 39,
   "metadata": {},
   "outputs": [
    {
     "name": "stdout",
     "output_type": "stream",
     "text": [
      "74\n"
     ]
    }
   ],
   "source": [
    "print(document_sampel[0]['RH'])"
   ]
  },
  {
   "cell_type": "markdown",
   "metadata": {},
   "source": [
    "Cara insert ke collection"
   ]
  },
  {
   "cell_type": "code",
   "execution_count": 40,
   "metadata": {},
   "outputs": [
    {
     "data": {
      "text/plain": [
       "<pymongo.results.InsertOneResult at 0x7f8c3c87fb08>"
      ]
     },
     "execution_count": 40,
     "metadata": {},
     "output_type": "execute_result"
    }
   ],
   "source": [
    "collection.insert_one({'data' : 'sembarang', 'isi' : 'terserah'})"
   ]
  },
  {
   "cell_type": "markdown",
   "metadata": {},
   "source": [
    "Cek document yang telah di insert tadi"
   ]
  },
  {
   "cell_type": "code",
   "execution_count": 41,
   "metadata": {},
   "outputs": [
    {
     "data": {
      "text/plain": [
       "2"
      ]
     },
     "execution_count": 41,
     "metadata": {},
     "output_type": "execute_result"
    }
   ],
   "source": [
    "collection.count_documents({'data' : 'sembarang'})"
   ]
  },
  {
   "cell_type": "code",
   "execution_count": 45,
   "metadata": {},
   "outputs": [
    {
     "data": {
      "text/plain": [
       "{'_id': ObjectId('5dc984b7462617171510c47e'),\n",
       " 'data': 'sembarang',\n",
       " 'isi': 'terserah'}"
      ]
     },
     "execution_count": 45,
     "metadata": {},
     "output_type": "execute_result"
    }
   ],
   "source": [
    "collection.find({'data' : 'sembarang'})[1]"
   ]
  },
  {
   "cell_type": "markdown",
   "metadata": {},
   "source": [
    "Update document dalam collection"
   ]
  },
  {
   "cell_type": "code",
   "execution_count": 46,
   "metadata": {},
   "outputs": [
    {
     "data": {
      "text/plain": [
       "<pymongo.results.UpdateResult at 0x7f8c3c7bf6c8>"
      ]
     },
     "execution_count": 46,
     "metadata": {},
     "output_type": "execute_result"
    }
   ],
   "source": [
    "collection.update_many({'data' : 'sembarang'}, {'$set': { 'isi': 'xxx' }})"
   ]
  },
  {
   "cell_type": "markdown",
   "metadata": {},
   "source": [
    "Cek lagi isinya setelah di update"
   ]
  },
  {
   "cell_type": "code",
   "execution_count": 47,
   "metadata": {},
   "outputs": [
    {
     "name": "stdout",
     "output_type": "stream",
     "text": [
      "{'_id': ObjectId('5dc970ce462617171510c47b'), 'isi': 'xxx', 'data': 'sembarang'}\n",
      "{'_id': ObjectId('5dc984b7462617171510c47e'), 'isi': 'xxx', 'data': 'sembarang'}\n"
     ]
    }
   ],
   "source": [
    "hasils = collection.find({'data' : 'sembarang'})\n",
    "for hasil in hasils:\n",
    "    print(hasil)"
   ]
  },
  {
   "cell_type": "markdown",
   "metadata": {},
   "source": [
    "Hapus document yang ada dalam collection"
   ]
  },
  {
   "cell_type": "code",
   "execution_count": 48,
   "metadata": {},
   "outputs": [
    {
     "data": {
      "text/plain": [
       "<pymongo.results.DeleteResult at 0x7f8c3c87b048>"
      ]
     },
     "execution_count": 48,
     "metadata": {},
     "output_type": "execute_result"
    }
   ],
   "source": [
    "collection.delete_many({'data': 'sembarang'})"
   ]
  },
  {
   "cell_type": "markdown",
   "metadata": {},
   "source": [
    "Cek lagi collection"
   ]
  },
  {
   "cell_type": "code",
   "execution_count": 49,
   "metadata": {},
   "outputs": [
    {
     "data": {
      "text/plain": [
       "0"
      ]
     },
     "execution_count": 49,
     "metadata": {},
     "output_type": "execute_result"
    }
   ],
   "source": [
    "collection.count_documents({'data' : 'sembarang'})"
   ]
  },
  {
   "cell_type": "code",
   "execution_count": 50,
   "metadata": {},
   "outputs": [
    {
     "data": {
      "text/plain": [
       "<pymongo.cursor.Cursor at 0x7f8c3c83ea58>"
      ]
     },
     "execution_count": 50,
     "metadata": {},
     "output_type": "execute_result"
    }
   ],
   "source": [
    "collection.find({'data' : 'sembarang'})"
   ]
  },
  {
   "cell_type": "code",
   "execution_count": 51,
   "metadata": {},
   "outputs": [
    {
     "name": "stdout",
     "output_type": "stream",
     "text": [
      "{'cuaca': 'NO DATA', 'awancb': 'NO CB', 'suhu': 32, 'arah_angin': 9999, 'bulan': 1, 'kecepatan_angin': 1, 'visibility': 9999, 'jam': 2, 'arah_angin_var2': 'NO DATA', 'tekanan': 1007, '_id': ObjectId('5dafd4f2c92ae93e3a120ccf'), 'menit': 30, 'awan': 'FEW019', 'gusty': 'NO DATA', 'stasiun': 'WAAA', 'RH': 59, 'suhu_titik_embun': 23, 'hari': 1, 'tahun': 2011, 'arah_angin_var1': 'NO DATA'}\n",
      "{'cuaca': 'NO DATA', 'awancb': 'NO CB', 'suhu': 32, 'arah_angin': 310, 'bulan': 1, 'kecepatan_angin': 4, 'visibility': 9999, 'jam': 3, 'arah_angin_var2': 20, 'tekanan': 1007, '_id': ObjectId('5dafd4f45769c536e0b8919b'), 'menit': 30, 'awan': 'FEW019', 'gusty': 'NO DATA', 'stasiun': 'WAAA', 'RH': 59, 'suhu_titik_embun': 23, 'hari': 1, 'tahun': 2011, 'arah_angin_var1': 240}\n",
      "{'cuaca': 'NO DATA', 'awancb': 'NO CB', 'suhu': 32, 'arah_angin': 290, 'bulan': 1, 'kecepatan_angin': 3, 'visibility': 9999, 'jam': 3, 'arah_angin_var2': 340, 'tekanan': 1007, '_id': ObjectId('5dafd4f32b4679a8504022ab'), 'menit': 0, 'awan': 'FEW019', 'gusty': 'NO DATA', 'stasiun': 'WAAA', 'RH': 55, 'suhu_titik_embun': 22, 'hari': 1, 'tahun': 2011, 'arah_angin_var1': 260}\n",
      "{'cuaca': 'NO DATA', 'awancb': 'NO CB', 'suhu': 32, 'arah_angin': 340, 'bulan': 1, 'kecepatan_angin': 5, 'visibility': 9999, 'jam': 4, 'arah_angin_var2': 20, 'tekanan': 1006, '_id': ObjectId('5dafd4f5a6a60b6047f8eb32'), 'menit': 0, 'awan': 'FEW019', 'gusty': 'NO DATA', 'stasiun': 'WAAA', 'RH': 59, 'suhu_titik_embun': 23, 'hari': 1, 'tahun': 2011, 'arah_angin_var1': 300}\n",
      "{'cuaca': 'NO DATA', 'awancb': 'NO CB', 'suhu': 32, 'arah_angin': 300, 'bulan': 1, 'kecepatan_angin': 4, 'visibility': 9999, 'jam': 5, 'arah_angin_var2': 20, 'tekanan': 1006, '_id': ObjectId('5dafd4f7043ed094d88ece65'), 'menit': 30, 'awan': 'FEW019', 'gusty': 'NO DATA', 'stasiun': 'WAAA', 'RH': 55, 'suhu_titik_embun': 22, 'hari': 1, 'tahun': 2011, 'arah_angin_var1': 250}\n",
      "{'cuaca': 'NO DATA', 'awancb': 'NO CB', 'suhu': 32, 'arah_angin': 290, 'bulan': 1, 'kecepatan_angin': 5, 'visibility': 9999, 'jam': 6, 'arah_angin_var2': 330, 'tekanan': 1005, '_id': ObjectId('5dafd4f7a4f78eeb73492267'), 'menit': 0, 'awan': 'FEW019', 'gusty': 'NO DATA', 'stasiun': 'WAAA', 'RH': 59, 'suhu_titik_embun': 23, 'hari': 1, 'tahun': 2011, 'arah_angin_var1': 180}\n"
     ]
    }
   ],
   "source": [
    "hasilsuhus = collection.find({'suhu' : 32})\n",
    "counting = 0\n",
    "for hasilsuhu in hasilsuhus:\n",
    "    if counting > 5:\n",
    "        break\n",
    "    print(hasilsuhu)\n",
    "    counting += 1"
   ]
  },
  {
   "cell_type": "code",
   "execution_count": null,
   "metadata": {},
   "outputs": [],
   "source": []
  }
 ],
 "metadata": {
  "kernelspec": {
   "display_name": "Python 3",
   "language": "python",
   "name": "python3"
  },
  "language_info": {
   "codemirror_mode": {
    "name": "ipython",
    "version": 3
   },
   "file_extension": ".py",
   "mimetype": "text/x-python",
   "name": "python",
   "nbconvert_exporter": "python",
   "pygments_lexer": "ipython3",
   "version": "3.5.2"
  }
 },
 "nbformat": 4,
 "nbformat_minor": 2
}
